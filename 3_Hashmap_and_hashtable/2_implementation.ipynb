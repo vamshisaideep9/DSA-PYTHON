{
 "cells": [
  {
   "cell_type": "code",
   "execution_count": 1,
   "metadata": {},
   "outputs": [],
   "source": [
    "size = 10 #The size of hashtable"
   ]
  },
  {
   "cell_type": "code",
   "execution_count": 2,
   "metadata": {},
   "outputs": [],
   "source": [
    "class DataItem:\n",
    "    def __init__(self, key, data=None):\n",
    "        self.key = key\n",
    "        self.data = data"
   ]
  },
  {
   "cell_type": "code",
   "execution_count": 3,
   "metadata": {},
   "outputs": [],
   "source": [
    "#Hash table initialization\n",
    "hashArray = [None]*size\n",
    "dummyItem = DataItem(-1, -1) #Dummy item for deleted positions"
   ]
  },
  {
   "cell_type": "code",
   "execution_count": 4,
   "metadata": {},
   "outputs": [],
   "source": [
    "#Hash function to calculate hash index based on the key\n",
    "def hashCode(key):\n",
    "    return key % size"
   ]
  },
  {
   "cell_type": "markdown",
   "metadata": {},
   "source": [
    "```python\n",
    "Linear probing: Hashing technique is used to create an already used index of the array. In such a case, we can search the next empty cell. This technique is called Linear probing.\n",
    "\n",
    "key: 1 , Hash: 1 % size of hashtable , ---> will array index after linear probing\n",
    "```"
   ]
  },
  {
   "cell_type": "code",
   "execution_count": 5,
   "metadata": {},
   "outputs": [],
   "source": [
    "#Insert operations with linear probing to handle collisions\n",
    "\n",
    "def insert(key, data):\n",
    "    newItem = DataItem(key, data)\n",
    "    hashIndex = hashCode(key)\n",
    "\n",
    "    # Linear probing move to the next index if the current index is occupied.\n",
    "\n",
    "    while hashArray[hashIndex] is not None and hashArray[hashIndex].key != -1:\n",
    "        hashIndex = (hashIndex + 1)%size\n",
    "    \n",
    "    hashArray[hashIndex] = newItem"
   ]
  },
  {
   "cell_type": "markdown",
   "metadata": {},
   "source": [
    "```python\n",
    "Search operation:\n",
    "Whenever an element is to be searched, compute the hash code of the key passed and locate the element using the hash code as index in the array. Use linear probing to get the element ahead if the element is not found at the computed hash code.\n",
    "```"
   ]
  },
  {
   "cell_type": "code",
   "execution_count": 6,
   "metadata": {},
   "outputs": [],
   "source": [
    "def search(key):\n",
    "    hashIndex = hashCode(key)\n",
    "\n",
    "    while hashArray[hashIndex] is not None:\n",
    "        if hashArray[hashIndex].key == key:\n",
    "            return hashArray[hashIndex] \n",
    "        hashIndex = (hashIndex+1) % size\n",
    "    return None"
   ]
  },
  {
   "cell_type": "markdown",
   "metadata": {},
   "source": [
    "```python\n",
    "Delete operation: Whenever an element is to be deleted, compute the hashcode of the key passed and locate the index using that hash code as an index in the array. Use linear probing to get the element ahead if an element is not found at the computed hash code. When found, store a dummy item there to keep the performance of the hash table intact.\n",
    "```"
   ]
  },
  {
   "cell_type": "code",
   "execution_count": 7,
   "metadata": {},
   "outputs": [],
   "source": [
    "def delete(key):\n",
    "    hashIndex = hashCode(key)\n",
    "\n",
    "    while hashArray[hashIndex] is not None:\n",
    "        if hashArray[hashIndex].key == key:\n",
    "            deletedItem = hashArray[hashIndex]\n",
    "            hashArray[hashIndex] = dummyItem\n",
    "            return deletedItem\n",
    "        hashIndex = (hashIndex + 1) % size #linear probing\n",
    "\n",
    "    return None"
   ]
  },
  {
   "cell_type": "code",
   "execution_count": 8,
   "metadata": {},
   "outputs": [],
   "source": [
    "def display():\n",
    "    for i in range(size):\n",
    "        if hashArray[i] is not None and hashArray[i] != dummyItem:\n",
    "            print(f\"Index {i}: key {hashArray[i].key}, Data {hashArray[i].data}\")\n",
    "        else:\n",
    "            print(f\"Index {i}: Empty\")"
   ]
  },
  {
   "cell_type": "code",
   "execution_count": 9,
   "metadata": {},
   "outputs": [],
   "source": [
    "insert(1, 20)\n",
    "insert(2, 70)\n",
    "insert(42, 80)\n",
    "insert(4, 25)\n",
    "insert(12, 44)\n",
    "insert(14, 32)\n",
    "insert(17, 11)\n",
    "insert(13, 78)\n",
    "insert(37, 97)"
   ]
  },
  {
   "cell_type": "code",
   "execution_count": 10,
   "metadata": {},
   "outputs": [
    {
     "name": "stdout",
     "output_type": "stream",
     "text": [
      "Hash tables contents after insertion\n",
      "Index 0: Empty\n",
      "Index 1: key 1, Data 20\n",
      "Index 2: key 2, Data 70\n",
      "Index 3: key 42, Data 80\n",
      "Index 4: key 4, Data 25\n",
      "Index 5: key 12, Data 44\n",
      "Index 6: key 14, Data 32\n",
      "Index 7: key 17, Data 11\n",
      "Index 8: key 13, Data 78\n",
      "Index 9: key 37, Data 97\n"
     ]
    }
   ],
   "source": [
    "print(\"Hash tables contents after insertion\")\n",
    "display()"
   ]
  },
  {
   "cell_type": "code",
   "execution_count": 11,
   "metadata": {},
   "outputs": [
    {
     "name": "stdout",
     "output_type": "stream",
     "text": [
      "\n",
      " searching for key 37\n",
      "Element found: Key 37, Data 97\n"
     ]
    }
   ],
   "source": [
    "#search for an item\n",
    "KeyToSearch = 37\n",
    "print(f\"\\n searching for key {KeyToSearch}\")\n",
    "result = search(KeyToSearch)\n",
    "if result:\n",
    "    print(f\"Element found: Key {result.key}, Data {result.data}\")\n",
    "else:\n",
    "    print(\"Element not found\")"
   ]
  },
  {
   "cell_type": "code",
   "execution_count": null,
   "metadata": {},
   "outputs": [],
   "source": [
    "#Delete an item\n",
    "KeyToDelete = 37\n",
    "print(f\"\\nDeleting key {KeyToDelete}\")\n",
    "deletedItem = delete(KeyToDelete)\n",
    "if deletedItem:\n",
    "    print(f\"Deleted item: key {deletedItem.key}, Data {deletedItem.data}\")\n",
    "else:\n",
    "    print(\"Item not found to delete\")\n",
    "\n",
    "\n",
    "print(\"\\n Hash Table contents after Deletion: \")\n",
    "display()"
   ]
  }
 ],
 "metadata": {
  "kernelspec": {
   "display_name": "base",
   "language": "python",
   "name": "python3"
  },
  "language_info": {
   "codemirror_mode": {
    "name": "ipython",
    "version": 3
   },
   "file_extension": ".py",
   "mimetype": "text/x-python",
   "name": "python",
   "nbconvert_exporter": "python",
   "pygments_lexer": "ipython3",
   "version": "3.12.7"
  }
 },
 "nbformat": 4,
 "nbformat_minor": 2
}
