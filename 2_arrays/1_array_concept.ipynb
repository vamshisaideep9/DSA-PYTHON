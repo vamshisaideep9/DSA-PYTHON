{
 "cells": [
  {
   "cell_type": "markdown",
   "metadata": {},
   "source": [
    "```python\n",
    "What is Array?\n",
    "- Array is a linear Data structure where all elements are arranged sequentially. It is a collection of elements of same data type stored at contiguous memory locations\n",
    "\n",
    "The difference between two indexes in arrays is offset.\n",
    "```"
   ]
  },
  {
   "cell_type": "markdown",
   "metadata": {},
   "source": [
    "```python\n",
    "Linear Datastructure: Where data elements are arranged sequentially or linearly each element has a previous and next adjacent, except for the first and last elements.\n",
    "\n",
    "Characteristics:\n",
    "\n",
    "1) Sequential Organization.\n",
    "2) Order preservation: This means, the first element added will be the first one to be accessed or removed, and the last element added will be the last one to be accessed or removed.\n",
    "3) Fixed or Dynamic sizes:\n",
    "- Array are fixed size\n",
    "- Linked lists, stacks and queues can be dynamically grown or shrink as elements are added or removed.\n",
    "4) Efficient access: Ex: Arrays offer constant-time access to elements using their index.\n",
    "\n",
    "\n",
    "Most common linear data structures include:\n",
    "1) Arrays\n",
    "2) Linked lists \n",
    "3) stacks\n",
    "4) queues\n",
    "```"
   ]
  },
  {
   "cell_type": "markdown",
   "metadata": {},
   "source": [
    "```python\n",
    "Is arrays always of a fixed size?\n",
    "Arrays at core are of fixed size only, but most of the languages provide dynamic sized arrays using the underlying fixed sized arrays. For example, vector in C++, ArrayList in Java and list in Python. In C language, the array has a fixed size meaning once the size is given to it, it cannot be changed i.e. you can’t shrink it nor can you expand it.\n",
    "```"
   ]
  },
  {
   "cell_type": "markdown",
   "metadata": {},
   "source": [
    "```python\n",
    "Why do we need arrays?\n",
    "- The idea of an array is to represent many instances in one variable.\n",
    "```"
   ]
  },
  {
   "cell_type": "markdown",
   "metadata": {},
   "source": [
    "```python\n",
    "Types of arrays?\n",
    "\n",
    "1) Fixed sized arrays\n",
    "arr = [0]*5\n",
    "\n",
    "2) Dynamic sized arrays\n",
    "The size of array changes as per user requirements.\n",
    "arr = []\n",
    "\n",
    "3) One - dimensional array\n",
    "can imagine 1D array as row, where elements are stored one after another.\n",
    "\n",
    "4) Multi-Dimensional array\n",
    "- An array with more than one dimension. we can use multidimensional array to store complex data in the form of tables, etc.\n",
    "\n",
    "---- a) 2D array: an array of arrays or as a matrix consisting of rows and columns.\n",
    "\n",
    "---- b) 3D array: an array of two dimensional arrays.\n",
    "\n",
    "```"
   ]
  }
 ],
 "metadata": {
  "kernelspec": {
   "display_name": "base",
   "language": "python",
   "name": "python3"
  },
  "language_info": {
   "name": "python",
   "version": "3.12.7"
  }
 },
 "nbformat": 4,
 "nbformat_minor": 2
}
