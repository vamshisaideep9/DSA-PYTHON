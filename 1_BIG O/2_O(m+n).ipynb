{
 "cells": [
  {
   "cell_type": "code",
   "execution_count": 1,
   "metadata": {},
   "outputs": [],
   "source": [
    "import time"
   ]
  },
  {
   "cell_type": "code",
   "execution_count": 2,
   "metadata": {},
   "outputs": [],
   "source": [
    "large1 = ['nemo' for i in range(100000)]\n",
    "large2 = ['nemo' for i in range(100000)]"
   ]
  },
  {
   "cell_type": "markdown",
   "metadata": {},
   "source": [
    "```python\n",
    "1) Here, there are two different variables array1 and array2.\n",
    "\n",
    "2) They have to be represented by 2 different variables in the Big-o representation.\n",
    "\n",
    "3) Let array1 correspond to m and array2 correspond to n\n",
    "\n",
    "```"
   ]
  },
  {
   "cell_type": "code",
   "execution_count": 4,
   "metadata": {},
   "outputs": [],
   "source": [
    "def find_nemo(array1, array2):\n",
    "    t0 = time.time()  #o(1)\n",
    "    for i in range(0, len(array1)): #o(m)\n",
    "        if array1[i] == 'nemo': #m*o(1)\n",
    "            print(\"Found Nemo!\") #K1*o(1) where k1 <= m because this statement will be executed only if the if statement returns True, which can be K1(<=m) time\n",
    "    t1 = time.time() #o(1)\n",
    "    print(f'The search took {t1-t0} seconds') #o(1)\n",
    "\n",
    "    t0 = time.time() #o(1)\n",
    "    for i in range(0, len(array2)): #o(n)\n",
    "        if array2[i] == 'nemo': #n*o(1)\n",
    "            print(\"Found Nemo!!\") #K2*o(1)\n",
    "    t1 = time.time() #o(1)\n",
    "    print(f'The search took {t1-t0} seconds') #o(1)"
   ]
  },
  {
   "cell_type": "code",
   "execution_count": null,
   "metadata": {},
   "outputs": [],
   "source": [
    "find_nemo(large1, large2)"
   ]
  },
  {
   "cell_type": "markdown",
   "metadata": {},
   "source": [
    "```python\n",
    "Total time complexity of find_nemo function = \n",
    "\n",
    "O(1 + m + m*1 + K1*1 + 1 + 1 + 1 + n + n*1 + K2*1 + 1 + 1) = o(6 + 2m + 2n + K1 + K2)\n",
    "\n",
    "- Now, K1<=m and K2<=n. In the worst case, K1 can be m and K2 can be n. We will conside the worst case and calculate the Big-o\n",
    "\n",
    "O(6 + 2m + 2n + m + n) = O(3m + 3n + 6) \n",
    "\n",
    "= O(3(m + n + 2))\n",
    "\n",
    "The constants can be safely ignored.\n",
    "\n",
    "Therefore, O(m + n + 2) = O(m + n)\n",
    "\n",
    "```"
   ]
  }
 ],
 "metadata": {
  "kernelspec": {
   "display_name": "base",
   "language": "python",
   "name": "python3"
  },
  "language_info": {
   "codemirror_mode": {
    "name": "ipython",
    "version": 3
   },
   "file_extension": ".py",
   "mimetype": "text/x-python",
   "name": "python",
   "nbconvert_exporter": "python",
   "pygments_lexer": "ipython3",
   "version": "3.12.7"
  }
 },
 "nbformat": 4,
 "nbformat_minor": 2
}
