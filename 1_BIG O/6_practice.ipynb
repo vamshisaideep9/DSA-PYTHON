{
 "cells": [
  {
   "cell_type": "markdown",
   "metadata": {},
   "source": [
    "1. Constant Time complexity O(1)"
   ]
  },
  {
   "cell_type": "code",
   "execution_count": 1,
   "metadata": {},
   "outputs": [],
   "source": [
    "def get_first_element(arr):\n",
    "    return arr[0]\n",
    "\n",
    "\"\"\"\n",
    "1. Time: O(1) (one operations regardless of input size)\n",
    "2. Space: O(1) (No extra memory used)\n",
    "\"\"\""
   ]
  },
  {
   "cell_type": "markdown",
   "metadata": {},
   "source": [
    "2. Linear Complexity: O(n)"
   ]
  },
  {
   "cell_type": "code",
   "execution_count": null,
   "metadata": {},
   "outputs": [],
   "source": [
    "def find_sum(arr): #O(1)\n",
    "    total = 0 #O(1)\n",
    "    for num in arr: #O(n)\n",
    "        total += num #O(1)\n",
    "    return total #O(1)\n",
    "\n",
    "\"\"\"\n",
    "1. Time: O(n) (One loop through n elements)\n",
    "2. Space: O(1) (only the total variable is used)\n",
    "\"\"\""
   ]
  },
  {
   "cell_type": "markdown",
   "metadata": {},
   "source": [
    "3. Quadratic time complexity: O(n^2)"
   ]
  },
  {
   "cell_type": "code",
   "execution_count": null,
   "metadata": {},
   "outputs": [],
   "source": [
    "def find_pairs(arr):\n",
    "    pairs = []\n",
    "    for i in range(len(arr)):\n",
    "        for j in range(len(arr)):\n",
    "            pairs.append(arr[i], arr[j])\n",
    "    return pairs\n",
    "\n",
    "\"\"\"\n",
    "1. Time: O(n^2) (nested Loops)\n",
    "2. Space: O(n^2) (storing n^2 pairs in the list)\n",
    "\"\"\""
   ]
  },
  {
   "cell_type": "markdown",
   "metadata": {},
   "source": [
    "4. Logarithmic Time complexity: O(logn)"
   ]
  },
  {
   "cell_type": "code",
   "execution_count": null,
   "metadata": {},
   "outputs": [],
   "source": [
    "def binary_search(arr, target): #Function defination: O(1)\n",
    "    left, right = 0, len(arr)-1\n",
    "    while left <= right: #Loop runs log(n) times O(logn)\n",
    "        mid = (left + right) // 2 #O(1)\n",
    "        if arr[mid] == target:\n",
    "            return mid\n",
    "        elif arr[mid] < target:\n",
    "            left = mid + 1\n",
    "        else:\n",
    "            right = mid - 1\n",
    "    return -1\n",
    "\n",
    "\"\"\"\n",
    "1. Time: O(logn) (having the array each time)\n",
    "2. Space: O(1) (No extra space used)\n",
    "\"\"\"\n"
   ]
  },
  {
   "cell_type": "markdown",
   "metadata": {},
   "source": [
    "5. Exponential Time complexity: O(2^n)"
   ]
  },
  {
   "cell_type": "code",
   "execution_count": null,
   "metadata": {},
   "outputs": [],
   "source": [
    "def fibonacci(n):\n",
    "    if n <= 1:\n",
    "        return n\n",
    "    return fibonacci(n-1) + fibonacci(n-2)"
   ]
  }
 ],
 "metadata": {
  "kernelspec": {
   "display_name": "base",
   "language": "python",
   "name": "python3"
  },
  "language_info": {
   "codemirror_mode": {
    "name": "ipython",
    "version": 3
   },
   "file_extension": ".py",
   "mimetype": "text/x-python",
   "name": "python",
   "nbconvert_exporter": "python",
   "pygments_lexer": "ipython3",
   "version": "3.12.7"
  }
 },
 "nbformat": 4,
 "nbformat_minor": 2
}
