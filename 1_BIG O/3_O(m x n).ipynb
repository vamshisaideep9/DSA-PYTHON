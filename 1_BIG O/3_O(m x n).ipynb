{
 "cells": [
  {
   "cell_type": "code",
   "execution_count": 1,
   "metadata": {},
   "outputs": [],
   "source": [
    "import time"
   ]
  },
  {
   "cell_type": "code",
   "execution_count": 2,
   "metadata": {},
   "outputs": [],
   "source": [
    "array1 = ['a', 'b', 'c', 'd', 'e']\n",
    "array2 = [1, 2, 3, 4, 5]"
   ]
  },
  {
   "cell_type": "markdown",
   "metadata": {},
   "source": [
    "```python\n",
    "Even here, lets take array1 as m and array2 as n\n",
    "```"
   ]
  },
  {
   "cell_type": "code",
   "execution_count": 3,
   "metadata": {},
   "outputs": [],
   "source": [
    "def pairs(array1, array2):\n",
    "    for i in range(len(array1)): #n*o(m)\n",
    "        for j in range(len(array2)): #m*o(n)\n",
    "            print(array1[i], array2[j]) #m*n*o(1)"
   ]
  },
  {
   "cell_type": "code",
   "execution_count": 4,
   "metadata": {},
   "outputs": [
    {
     "name": "stdout",
     "output_type": "stream",
     "text": [
      "a 1\n",
      "a 2\n",
      "a 3\n",
      "a 4\n",
      "a 5\n",
      "b 1\n",
      "b 2\n",
      "b 3\n",
      "b 4\n",
      "b 5\n",
      "c 1\n",
      "c 2\n",
      "c 3\n",
      "c 4\n",
      "c 5\n",
      "d 1\n",
      "d 2\n",
      "d 3\n",
      "d 4\n",
      "d 5\n",
      "e 1\n",
      "e 2\n",
      "e 3\n",
      "e 4\n",
      "e 5\n"
     ]
    }
   ],
   "source": [
    "pairs(array1, array2)"
   ]
  },
  {
   "cell_type": "markdown",
   "metadata": {},
   "source": [
    "```python\n",
    "Total time complexity of the pairs function =\n",
    "\n",
    "o(n*m + m*n + m*n*1) = o(3*m*n)\n",
    "\n",
    "Therefore, O(m*n*3) = O(m * n)\n",
    "\n",
    "```"
   ]
  }
 ],
 "metadata": {
  "kernelspec": {
   "display_name": "base",
   "language": "python",
   "name": "python3"
  },
  "language_info": {
   "codemirror_mode": {
    "name": "ipython",
    "version": 3
   },
   "file_extension": ".py",
   "mimetype": "text/x-python",
   "name": "python",
   "nbconvert_exporter": "python",
   "pygments_lexer": "ipython3",
   "version": "3.12.7"
  }
 },
 "nbformat": 4,
 "nbformat_minor": 2
}
