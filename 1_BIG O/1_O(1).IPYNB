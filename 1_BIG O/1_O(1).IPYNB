{
 "cells": [
  {
   "cell_type": "markdown",
   "metadata": {},
   "source": [
    "```python\n",
    "O(1) - constant Time\n",
    "The number of operations do not depend on the size of the input and are always constant.\n",
    "```"
   ]
  },
  {
   "cell_type": "code",
   "execution_count": 10,
   "metadata": {},
   "outputs": [],
   "source": [
    "import time"
   ]
  },
  {
   "cell_type": "code",
   "execution_count": 11,
   "metadata": {},
   "outputs": [],
   "source": [
    "array_small = ['vamshi' for i in range(10)]\n",
    "array_medium = ['vamshi' for i in range(100)]\n",
    "array_large = ['vamshi' for i in range(10000)]"
   ]
  },
  {
   "cell_type": "code",
   "execution_count": 14,
   "metadata": {},
   "outputs": [],
   "source": [
    "def finding_vamshi(array):\n",
    "    t0 = time.time()\n",
    "    print(t0)\n",
    "    for i in array:\n",
    "        pass\n",
    "    t1 = time.time()\n",
    "    print(t1)\n",
    "    print(f'Time taken = {t1-t0}')"
   ]
  },
  {
   "cell_type": "code",
   "execution_count": 15,
   "metadata": {},
   "outputs": [
    {
     "name": "stdout",
     "output_type": "stream",
     "text": [
      "1735199205.478844\n",
      "1735199205.478844\n",
      "Time taken = 0.0\n",
      "1735199205.478844\n",
      "1735199205.478844\n",
      "Time taken = 0.0\n",
      "1735199205.478844\n",
      "1735199205.478844\n",
      "Time taken = 0.0\n"
     ]
    }
   ],
   "source": [
    "finding_vamshi(array_small)\n",
    "finding_vamshi(array_medium)\n",
    "finding_vamshi(array_large)"
   ]
  },
  {
   "cell_type": "markdown",
   "metadata": {},
   "source": [
    "```python\n",
    "-Time Taken in all 3 cases would be 0.0 seconds because we are only extracting the first and second elements of the arrays.\n",
    "\n",
    "- We are not looping over the entire array\n",
    "\n",
    "- We are performing two o(1) operations, which equal to o(2)\n",
    "\n",
    "- Any constant number can be considered as 1. There we can say this function is of o(1) - constant Time complexity.\n",
    "\n",
    "```"
   ]
  }
 ],
 "metadata": {
  "kernelspec": {
   "display_name": "base",
   "language": "python",
   "name": "python3"
  },
  "language_info": {
   "codemirror_mode": {
    "name": "ipython",
    "version": 3
   },
   "file_extension": ".py",
   "mimetype": "text/x-python",
   "name": "python",
   "nbconvert_exporter": "python",
   "pygments_lexer": "ipython3",
   "version": "3.12.7"
  }
 },
 "nbformat": 4,
 "nbformat_minor": 2
}
