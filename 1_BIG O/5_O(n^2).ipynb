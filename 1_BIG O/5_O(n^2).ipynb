{
 "cells": [
  {
   "cell_type": "code",
   "execution_count": 1,
   "metadata": {},
   "outputs": [],
   "source": [
    "import time"
   ]
  },
  {
   "cell_type": "code",
   "execution_count": 2,
   "metadata": {},
   "outputs": [],
   "source": [
    "array = ['a', 'b', 'c', 'd', 'e']"
   ]
  },
  {
   "cell_type": "markdown",
   "metadata": {},
   "source": [
    "There are nested for loops in this function but their is only one variable array."
   ]
  },
  {
   "cell_type": "code",
   "execution_count": 3,
   "metadata": {},
   "outputs": [],
   "source": [
    "def log_all_pairs(array):\n",
    "    for i in range(len(array)): #n*O(n)\n",
    "        for j in range(len(array)): #n*O(n)\n",
    "            print(array[i], array[j]) #n*n*O(1)"
   ]
  },
  {
   "cell_type": "code",
   "execution_count": 4,
   "metadata": {},
   "outputs": [
    {
     "name": "stdout",
     "output_type": "stream",
     "text": [
      "a a\n",
      "a b\n",
      "a c\n",
      "a d\n",
      "a e\n",
      "b a\n",
      "b b\n",
      "b c\n",
      "b d\n",
      "b e\n",
      "c a\n",
      "c b\n",
      "c c\n",
      "c d\n",
      "c e\n",
      "d a\n",
      "d b\n",
      "d c\n",
      "d d\n",
      "d e\n",
      "e a\n",
      "e b\n",
      "e c\n",
      "e d\n",
      "e e\n"
     ]
    }
   ],
   "source": [
    "log_all_pairs(array)"
   ]
  },
  {
   "cell_type": "markdown",
   "metadata": {},
   "source": [
    "```python\n",
    "Total time complexity of log_all_pairs function = \n",
    "\n",
    "O(n*n + n*n + n*n+1) = O(3n^2)\n",
    "\n",
    "The constants are safely ignored,\n",
    "Therefore, O(3n^2) = (n^2)\n",
    "```"
   ]
  },
  {
   "cell_type": "code",
   "execution_count": 5,
   "metadata": {},
   "outputs": [],
   "source": [
    "new_array = [1,2,3,4,5]"
   ]
  },
  {
   "cell_type": "code",
   "execution_count": 6,
   "metadata": {},
   "outputs": [],
   "source": [
    "def print_numbers_then_pairs(array):\n",
    "    print(\"The numbers are: \") #O(1)\n",
    "    for i in range(len(array)): #O(n)\n",
    "        print(array[i]) #n*O(1)\n",
    "\n",
    "\n",
    "    print(\"The pairs are: \") #O(1)\n",
    "    for i in range(len(array)): #n*O(n)\n",
    "        for j in range(len(array)): #n*O(n)\n",
    "            print(array[i], array[j]) #n*n*O(1)\n",
    "            "
   ]
  },
  {
   "cell_type": "code",
   "execution_count": 7,
   "metadata": {},
   "outputs": [
    {
     "name": "stdout",
     "output_type": "stream",
     "text": [
      "The numbers are: \n",
      "1\n",
      "2\n",
      "3\n",
      "4\n",
      "5\n",
      "The pairs are: \n",
      "1 1\n",
      "1 2\n",
      "1 3\n",
      "1 4\n",
      "1 5\n",
      "2 1\n",
      "2 2\n",
      "2 3\n",
      "2 4\n",
      "2 5\n",
      "3 1\n",
      "3 2\n",
      "3 3\n",
      "3 4\n",
      "3 5\n",
      "4 1\n",
      "4 2\n",
      "4 3\n",
      "4 4\n",
      "4 5\n",
      "5 1\n",
      "5 2\n",
      "5 3\n",
      "5 4\n",
      "5 5\n"
     ]
    }
   ],
   "source": [
    "print_numbers_then_pairs(new_array)"
   ]
  },
  {
   "cell_type": "markdown",
   "metadata": {},
   "source": [
    "```python\n",
    "Total time complexity of the print_numbers_then_pairs function =\n",
    "\n",
    "O(1 + n + n*1 + 1 + n*n + n*n + n*n*1) = O(3n^2 + 2n + 2)\n",
    "\n",
    "Now, Big-O presents scalability of the code, i.e., how the code will behave as the inputs grow larger and larger\n",
    "\n",
    "Therefore, we can ignore the terms of the smaller degrees and only keep the highest degree term\n",
    "\n",
    "O(3n^2 + 2n + 2) = O(3n^2)\n",
    "\n",
    "The constants can be safely ignored.\n",
    "\n",
    "Therefore, O(3n^2) = O(n^2)\n",
    "\n",
    "```"
   ]
  }
 ],
 "metadata": {
  "kernelspec": {
   "display_name": "base",
   "language": "python",
   "name": "python3"
  },
  "language_info": {
   "codemirror_mode": {
    "name": "ipython",
    "version": 3
   },
   "file_extension": ".py",
   "mimetype": "text/x-python",
   "name": "python",
   "nbconvert_exporter": "python",
   "pygments_lexer": "ipython3",
   "version": "3.12.7"
  }
 },
 "nbformat": 4,
 "nbformat_minor": 2
}
