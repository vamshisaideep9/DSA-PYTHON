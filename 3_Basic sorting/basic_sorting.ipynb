{
 "cells": [
  {
   "cell_type": "markdown",
   "metadata": {},
   "source": [
    "```python\n",
    "Basic Sorting: Sorting Algorithms\n",
    "\n",
    "1. Bubble sort:\n",
    "\n",
    "Bubble sort is a simple sorting algorithm that repeatedly steps through the list, compares adjacent elements, and swaps them if they are in the wrong order. This process is repeated until the list is ordered.\n",
    "\n",
    "Algorithm Steps: \n",
    "\n",
    "1. Compare each pair of adjacent elements in the array\n",
    "2. Swap them if they are in the wrong order (The first element is grater than the second)\n",
    "3. Repeat the process for all the elements until no swaps are needed. (indicating the array is sorted.)\n",
    "\n",
    "NOTE: Bubble sort is not the most efficient sorting algorithm, especially for large datasets. It is mainly used for teching purposes due its simplicity.\n",
    "```\n"
   ]
  },
  {
   "cell_type": "code",
   "execution_count": 1,
   "metadata": {},
   "outputs": [
    {
     "name": "stdout",
     "output_type": "stream",
     "text": [
      "sorted array: [7, 12, 23, 24, 56, 123]\n"
     ]
    }
   ],
   "source": [
    "def bubble_sort(arr):\n",
    "    n = len(arr)\n",
    "    for i in range(n):\n",
    "        swapped = False\n",
    "\n",
    "        for j in range(0, n-i-1):\n",
    "            if arr[j] > arr[j+1]:\n",
    "                arr[j], arr[j+1] = arr[j+1], arr[j]\n",
    "                swapped = True\n",
    "        if not swapped:\n",
    "            break\n",
    "    return arr\n",
    "\n",
    "sorted_array = bubble_sort([123,24,12,56,23,7])\n",
    "print(f\"sorted array: {sorted_array}\")"
   ]
  },
  {
   "cell_type": "markdown",
   "metadata": {},
   "source": [
    "```python\n",
    "2. Quick Sort:\n",
    "\n",
    "Quick sort is a divide-and-conqure sorting algorithm. It works by selecting a \"pivot\" element from the array, partitioning the array into two subarrays based on whether elements are smaller or larger than the pivot, and then recursively sorting the subarrays.\n",
    "\n",
    "Algorithm Steps:\n",
    "\n",
    "1. Choose a pivot element(commonly the first, last or middle element)\n",
    "2. Partition the array so that all elements less than the pivot are on the left, and all elements greater than the pivot are on the right.\n",
    "3. Recursively apply the above steps to the subarrays.\n",
    "4. Combine the sorted subarrays and pivot into a sorted array.\n",
    "\n",
    "Providing 2 implementations. The second method is best becuase it avoids extra memory for the left,middle and right arrays.\n",
    "```\n"
   ]
  },
  {
   "cell_type": "code",
   "execution_count": 2,
   "metadata": {},
   "outputs": [
    {
     "name": "stdout",
     "output_type": "stream",
     "text": [
      "sorted array: [1, 8, 12, 23, 77, 235, 435, 623, 6784]\n"
     ]
    }
   ],
   "source": [
    "def quick_sort(arr):\n",
    "\n",
    "    # Best case: arrays with 0 or 1 element are already sorted.\n",
    "\n",
    "    if len(arr) <= 1:\n",
    "        return arr\n",
    "    \n",
    "    pivot = arr[len(arr)//2]\n",
    "\n",
    "    left = [x for x in arr if x < pivot] #elements less than pivot\n",
    "    right = [x for x in arr if x > pivot] #elements grater than pivot\n",
    "    middle = [x for x in arr if x == pivot] #elements equal to pivot\n",
    "\n",
    "    return quick_sort(left) + middle + quick_sort(right)\n",
    "\n",
    "sorted_array = quick_sort([12,435,623,77,23,8,235,1,6784])\n",
    "print(f\"sorted array: {sorted_array}\") "
   ]
  },
  {
   "cell_type": "code",
   "execution_count": 3,
   "metadata": {},
   "outputs": [
    {
     "name": "stdout",
     "output_type": "stream",
     "text": [
      "sorted array: [1, 5, 7, 8, 9, 10]\n"
     ]
    }
   ],
   "source": [
    "def quick_sort_2(arr, low, high):\n",
    "    if low < high:\n",
    "        pi = partition(arr, low, high)\n",
    "\n",
    "        quick_sort_2(arr, low, pi-1)\n",
    "        quick_sort_2(arr, pi+1, high)\n",
    "\n",
    "def partition(arr, low, high):\n",
    "\n",
    "    pivot = arr[high]\n",
    "    i = low - 1\n",
    "\n",
    "    for j in range(low, high):\n",
    "        if arr[j] < pivot:\n",
    "            i += 1\n",
    "            arr[i], arr[j] = arr[j], arr[i]\n",
    "    \n",
    "    arr[i+1], arr[high] = arr[high], arr[i+1]\n",
    "    return i+1\n",
    "\n",
    "\n",
    "unsorted_array = [10,7,8,9,1,5]\n",
    "quick_sort_2(unsorted_array, 0, len(unsorted_array)-1)\n",
    "print(f\"sorted array: {unsorted_array}\")"
   ]
  }
 ],
 "metadata": {
  "kernelspec": {
   "display_name": "base",
   "language": "python",
   "name": "python3"
  },
  "language_info": {
   "codemirror_mode": {
    "name": "ipython",
    "version": 3
   },
   "file_extension": ".py",
   "mimetype": "text/x-python",
   "name": "python",
   "nbconvert_exporter": "python",
   "pygments_lexer": "ipython3",
   "version": "3.12.7"
  }
 },
 "nbformat": 4,
 "nbformat_minor": 2
}
