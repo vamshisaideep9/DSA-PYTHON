{
 "cells": [
  {
   "cell_type": "markdown",
   "metadata": {},
   "source": [
    "1. Spiral matrix"
   ]
  },
  {
   "cell_type": "code",
   "execution_count": 7,
   "metadata": {},
   "outputs": [
    {
     "name": "stdout",
     "output_type": "stream",
     "text": [
      "[1, 2, 3, 6, 9]\n"
     ]
    }
   ],
   "source": [
    "def spiral_matrix(matrix):\n",
    "    result = []\n",
    "\n",
    "    if not matrix or not matrix[0]:\n",
    "        return result\n",
    "\n",
    "    top, bottom = 0, len(matrix)-1\n",
    "    left, right = 0, len(matrix[0])-1\n",
    "        \n",
    "    while top <= bottom and left <= right:    \n",
    "        #Traverse from left to right along the top row\n",
    "        for i in range(left, right+1):\n",
    "            result.append(matrix[top][i])\n",
    "        top+=1\n",
    "        #Traverse from top to bottom along the right column\n",
    "        for i in range(top, bottom+1):\n",
    "            result.append(matrix[i][right])\n",
    "        right-=1\n",
    "        #Traverse from right to left along the bottom row\n",
    "        if top<=bottom:\n",
    "            for i in range(right, left-1, -1):\n",
    "                result.append(matrix[bottom][i])\n",
    "            bottom-=1\n",
    "\n",
    "        \n",
    "    \n",
    "        return result\n",
    "\n",
    "\n",
    "\n",
    "\n",
    "print(spiral_matrix([[1,2,3],[4,5,6],[7,8,9]]))"
   ]
  }
 ],
 "metadata": {
  "kernelspec": {
   "display_name": "base",
   "language": "python",
   "name": "python3"
  },
  "language_info": {
   "codemirror_mode": {
    "name": "ipython",
    "version": 3
   },
   "file_extension": ".py",
   "mimetype": "text/x-python",
   "name": "python",
   "nbconvert_exporter": "python",
   "pygments_lexer": "ipython3",
   "version": "3.12.7"
  }
 },
 "nbformat": 4,
 "nbformat_minor": 2
}
