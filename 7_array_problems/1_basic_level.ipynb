{
 "cells": [
  {
   "cell_type": "markdown",
   "metadata": {},
   "source": [
    "1. Find the maximum element in an array"
   ]
  },
  {
   "cell_type": "code",
   "execution_count": 11,
   "metadata": {},
   "outputs": [
    {
     "name": "stdout",
     "output_type": "stream",
     "text": [
      "6\n"
     ]
    }
   ],
   "source": [
    "def maximum_element(arr):\n",
    "    array = sorted(arr)\n",
    "    n = len(array)\n",
    "\n",
    "    for _ in range(n):\n",
    "        return arr[n-1]\n",
    "\n",
    "print(maximum_element([2,4,1,5,3,6]))        "
   ]
  },
  {
   "cell_type": "markdown",
   "metadata": {},
   "source": [
    "2. Find minimum element in the array"
   ]
  },
  {
   "cell_type": "code",
   "execution_count": 24,
   "metadata": {},
   "outputs": [
    {
     "name": "stdout",
     "output_type": "stream",
     "text": [
      "2\n"
     ]
    }
   ],
   "source": [
    "def maximum_element(arr):\n",
    "    array = sorted(arr)\n",
    "    n = len(array)\n",
    "\n",
    "    for i in range(n):\n",
    "        return arr[i]\n",
    "\n",
    "print(maximum_element([2,4,1,5,3,6]))  "
   ]
  },
  {
   "cell_type": "markdown",
   "metadata": {},
   "source": [
    "3. Calculate the sum of all elements in an array"
   ]
  },
  {
   "cell_type": "code",
   "execution_count": 19,
   "metadata": {},
   "outputs": [
    {
     "name": "stdout",
     "output_type": "stream",
     "text": [
      "15\n"
     ]
    }
   ],
   "source": [
    "def calculate_sum_of_array(arr):\n",
    "    n = len(arr)\n",
    "    sum = 0\n",
    "    for i in range(n):\n",
    "        sum = sum + arr[i]\n",
    "    return sum\n",
    "    \n",
    "print(calculate_sum_of_array([1,2,3,4,5]))"
   ]
  },
  {
   "cell_type": "markdown",
   "metadata": {},
   "source": [
    "4. Remove duplicates from sorted array and return the new length"
   ]
  },
  {
   "cell_type": "code",
   "execution_count": 2,
   "metadata": {},
   "outputs": [
    {
     "name": "stdout",
     "output_type": "stream",
     "text": [
      "8\n"
     ]
    }
   ],
   "source": [
    "def remove_duplicates(arr):\n",
    "    n = len(arr)\n",
    "    new_arr = []\n",
    "    counter = 0\n",
    "    for i in range(n):\n",
    "        if arr[i] in new_arr:\n",
    "            continue\n",
    "        else:\n",
    "            new_arr.append(arr[i])\n",
    "            counter += 1\n",
    "    return counter\n",
    "\n",
    "print(remove_duplicates([1,1,2,4,3,4,5,6,7,7,8,8,8,8]))\n",
    "        \n"
   ]
  },
  {
   "cell_type": "markdown",
   "metadata": {},
   "source": [
    "5. Maximum consecutive ones "
   ]
  },
  {
   "cell_type": "code",
   "execution_count": 11,
   "metadata": {},
   "outputs": [
    {
     "name": "stdout",
     "output_type": "stream",
     "text": [
      "3\n"
     ]
    }
   ],
   "source": [
    "def max_consecutive_ones(arr):\n",
    "    l = 0\n",
    "    r = 0\n",
    "    max_length = 0\n",
    "    n = len(arr)\n",
    "\n",
    "    for r in range(n):\n",
    "        if arr[r] == 0:\n",
    "            l = r+1\n",
    "        else:\n",
    "            max_length = max(max_length, r-l+1)\n",
    "\n",
    "    return max_length\n",
    "        \n",
    "\n",
    "\n",
    "print(max_consecutive_ones([1,1,0,0,1,1,1]))"
   ]
  },
  {
   "cell_type": "markdown",
   "metadata": {},
   "source": [
    "6. Given a non-empty array of integers, every element appears twice except for one. Find the single one."
   ]
  },
  {
   "cell_type": "code",
   "execution_count": 14,
   "metadata": {},
   "outputs": [
    {
     "name": "stdout",
     "output_type": "stream",
     "text": [
      "5\n"
     ]
    }
   ],
   "source": [
    "def single_number(arr):\n",
    "    result = 0\n",
    "    for num in arr:\n",
    "        result = result ^ num # xor all numbers\n",
    "    return result\n",
    "\n",
    "print(single_number([1,1,3,3,5,8,8]))"
   ]
  },
  {
   "cell_type": "markdown",
   "metadata": {},
   "source": [
    "MATRIX PROBLEMS EASY"
   ]
  },
  {
   "cell_type": "markdown",
   "metadata": {},
   "source": [
    "Problem 1: Search a 2D Matrix\n",
    "You are given an \n",
    "𝑚\n",
    "×\n",
    "𝑛\n",
    "m×n matrix matrix where:\n",
    "\n",
    "Integers in each row are sorted in ascending order from left to right.\n",
    "The first integer of each row is greater than the last integer of the previous row.\n",
    "Write an algorithm to find if a given target exists in the matrix."
   ]
  },
  {
   "cell_type": "code",
   "execution_count": 6,
   "metadata": {},
   "outputs": [
    {
     "name": "stdout",
     "output_type": "stream",
     "text": [
      "True\n"
     ]
    }
   ],
   "source": [
    "def search_2d_matrix(matrix,target):\n",
    "    i = 0\n",
    "    j = 0\n",
    "    n = len(matrix)\n",
    "\n",
    "    for i in range(n):\n",
    "        for j in range(len(matrix[i])):\n",
    "            if target == matrix[i][j]:\n",
    "                return True\n",
    "    \n",
    "    return False\n",
    "\n",
    "\n",
    "print(search_2d_matrix([[1,5,6,7],[10,11,16,20],[25,30,34,60]],5))"
   ]
  },
  {
   "cell_type": "markdown",
   "metadata": {},
   "source": [
    "Best approach - Binary search"
   ]
  },
  {
   "cell_type": "code",
   "execution_count": 7,
   "metadata": {},
   "outputs": [
    {
     "name": "stdout",
     "output_type": "stream",
     "text": [
      "True\n"
     ]
    }
   ],
   "source": [
    "def search_2d_matrix(matrix, target):\n",
    "    if not matrix or not matrix[0]:\n",
    "        return False\n",
    "    \n",
    "    rows, cols = len(matrix), len(matrix[0])\n",
    "    left, right = 0, rows*cols-1\n",
    "\n",
    "    while left <= right:\n",
    "        mid = (left+right)//2\n",
    "        mid_val = matrix[mid//cols][mid%cols]\n",
    "\n",
    "        if mid_val == target:\n",
    "            return True\n",
    "        elif mid_val < target:\n",
    "            left = mid+1\n",
    "        else:\n",
    "            right = mid - 1\n",
    "    return False\n",
    "\n",
    "print(search_2d_matrix([[1,5,6,7],[10,11,16,20],[25,30,34,60]],5))\n",
    "\n"
   ]
  },
  {
   "cell_type": "markdown",
   "metadata": {},
   "source": [
    "2. Rotate Image 90 degrees clockwise\n",
    "You are given an \n",
    "𝑛\n",
    "×\n",
    "𝑛\n",
    "n×n 2D matrix. Rotate the matrix 90 degrees clockwise in-place."
   ]
  },
  {
   "cell_type": "code",
   "execution_count": 9,
   "metadata": {},
   "outputs": [
    {
     "name": "stdout",
     "output_type": "stream",
     "text": [
      "[[7, 25, 10, 1], [20, 30, 11, 5], [60, 34, 16, 6]]\n"
     ]
    }
   ],
   "source": [
    "def rotate_image(matrix):\n",
    "    n = len(matrix)\n",
    "\n",
    "    for i in range(n):\n",
    "        for j in range(i, n):\n",
    "            matrix[i][j], matrix[j][i] = matrix[j][i], matrix[i][j]\n",
    "\n",
    "    for row in matrix:\n",
    "        row.reverse()\n",
    "    \n",
    "    return matrix\n",
    "\n",
    "\n",
    "print(rotate_image([[1,2,3],[4,5,6],[7,8,9]]))"
   ]
  }
 ],
 "metadata": {
  "kernelspec": {
   "display_name": "base",
   "language": "python",
   "name": "python3"
  },
  "language_info": {
   "codemirror_mode": {
    "name": "ipython",
    "version": 3
   },
   "file_extension": ".py",
   "mimetype": "text/x-python",
   "name": "python",
   "nbconvert_exporter": "python",
   "pygments_lexer": "ipython3",
   "version": "3.12.7"
  }
 },
 "nbformat": 4,
 "nbformat_minor": 2
}
