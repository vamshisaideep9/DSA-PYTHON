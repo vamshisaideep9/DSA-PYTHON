{
 "cells": [
  {
   "cell_type": "markdown",
   "metadata": {},
   "source": [
    "```python\n",
    "Arrays and Strings:\n",
    "- Arrays and strings are fundamental data structures in programming.\n",
    "```"
   ]
  },
  {
   "cell_type": "markdown",
   "metadata": {},
   "source": [
    "1. Iterate Through an Array"
   ]
  },
  {
   "cell_type": "code",
   "execution_count": 2,
   "metadata": {},
   "outputs": [
    {
     "name": "stdout",
     "output_type": "stream",
     "text": [
      "1\n",
      "2\n",
      "10\n",
      "vamshi\n",
      "['kumar', 'vinay']\n"
     ]
    }
   ],
   "source": [
    "def print_elements(arr):\n",
    "    for elem in arr:\n",
    "        print(elem)\n",
    "\n",
    "print_elements([1, 2, 10, 'vamshi', ['kumar', 'vinay']])"
   ]
  },
  {
   "cell_type": "markdown",
   "metadata": {},
   "source": [
    "2. Reverse an Array"
   ]
  },
  {
   "cell_type": "code",
   "execution_count": 3,
   "metadata": {},
   "outputs": [
    {
     "data": {
      "text/plain": [
       "[5, 4, 3, 2, 1]"
      ]
     },
     "execution_count": 3,
     "metadata": {},
     "output_type": "execute_result"
    }
   ],
   "source": [
    "def reverse_array(arr):\n",
    "    left, right = 0, len(arr)-1\n",
    "    while(left<right):\n",
    "        arr[left], arr[right] = arr[right], arr[left]\n",
    "        left += 1\n",
    "        right -= 1\n",
    "    return arr\n",
    "\n",
    "reverse_array([1,2,3,4,5])"
   ]
  },
  {
   "cell_type": "markdown",
   "metadata": {},
   "source": [
    "3. String Manipulation"
   ]
  },
  {
   "cell_type": "code",
   "execution_count": 5,
   "metadata": {},
   "outputs": [
    {
     "name": "stdout",
     "output_type": "stream",
     "text": [
      "False\n"
     ]
    },
    {
     "data": {
      "text/plain": [
       "True"
      ]
     },
     "execution_count": 5,
     "metadata": {},
     "output_type": "execute_result"
    }
   ],
   "source": [
    "#Write a function to check if string is palindrome or not\n",
    "def is_palindrome(s):\n",
    "    return s == s[::-1]\n",
    "\n",
    "print(is_palindrome('vamshi'))\n",
    "is_palindrome('ababa')"
   ]
  },
  {
   "cell_type": "markdown",
   "metadata": {},
   "source": [
    "4. Remove duplicates from array"
   ]
  },
  {
   "cell_type": "code",
   "execution_count": 6,
   "metadata": {},
   "outputs": [
    {
     "data": {
      "text/plain": [
       "[1, 2, 4, 10, 11, 18]"
      ]
     },
     "execution_count": 6,
     "metadata": {},
     "output_type": "execute_result"
    }
   ],
   "source": [
    "def remove_duplicates(arr):\n",
    "    return list(set(arr))\n",
    "\n",
    "\n",
    "remove_duplicates([1,2,2,4,1,2,10,1,11,18])\n"
   ]
  },
  {
   "cell_type": "markdown",
   "metadata": {},
   "source": [
    "1. Above one is an optimal approach\n",
    "2. Below one is brute force approach"
   ]
  },
  {
   "cell_type": "code",
   "execution_count": 7,
   "metadata": {},
   "outputs": [
    {
     "data": {
      "text/plain": [
       "[1, 2, 4, 10, 11, 18]"
      ]
     },
     "execution_count": 7,
     "metadata": {},
     "output_type": "execute_result"
    }
   ],
   "source": [
    "#Removing duplicates\n",
    "\n",
    "def remove_duplicates_2(arr):\n",
    "    array_2 = []\n",
    "    for i in range(len(arr-1)):\n",
    "        if arr[i] not in array_2:\n",
    "            array_2.append(arr[i])\n",
    "\n",
    "    return array_2\n",
    "\n",
    "remove_duplicates([1,2,2,4,1,2,10,1,11,18])"
   ]
  }
 ],
 "metadata": {
  "kernelspec": {
   "display_name": "base",
   "language": "python",
   "name": "python3"
  },
  "language_info": {
   "codemirror_mode": {
    "name": "ipython",
    "version": 3
   },
   "file_extension": ".py",
   "mimetype": "text/x-python",
   "name": "python",
   "nbconvert_exporter": "python",
   "pygments_lexer": "ipython3",
   "version": "3.12.7"
  }
 },
 "nbformat": 4,
 "nbformat_minor": 2
}
