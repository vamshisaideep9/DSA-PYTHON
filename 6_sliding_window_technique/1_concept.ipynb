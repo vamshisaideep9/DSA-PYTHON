{
 "cells": [
  {
   "cell_type": "markdown",
   "metadata": {},
   "source": [
    "```python\n",
    "Sliding Window Technique:\n",
    "\n",
    "The sliding window technique is a powerful algorithmic strategy used for solving problems that involves arrays or strings. It is particularly useful for finding subarrays or\n",
    "substrings that satisfy certain conditions, like having a specific sum, length, or set of properties.\n",
    "\n",
    "\n",
    "What is the sliding window Technique?\n",
    "\n",
    "A Technique where a \"window\" of elements is moved across the data structure to find a solution. The windows size can be either fixed or dynamic, depending on the problem.\n",
    "\n",
    "When to use the sliding window technique?\n",
    "\n",
    "1. When you need to analyze subarrays or substrings of contiguous elements.\n",
    "\n",
    "2. When you want to reduce time complexity from O(n^2) to O(n)\n",
    "\n",
    "Types of sliding window\n",
    "\n",
    "1. Fixed-sized window\n",
    "- the window size is constant\n",
    "\n",
    "2. Dynamic-sized window\n",
    "- The window size changes based on conditions.\n",
    "\n",
    "```"
   ]
  },
  {
   "cell_type": "markdown",
   "metadata": {},
   "source": [
    "```python\n",
    "Problems:\n",
    "\n",
    "1) Find the length of the longest substring without repeating characters (Dynamic window)\n",
    "\n",
    "```"
   ]
  },
  {
   "cell_type": "markdown",
   "metadata": {},
   "source": [
    "```Approach\n",
    "1) Start both pointers (left and right) at the beginning of the string.\n",
    "\n",
    "2) Expand the window by moving the right pointer and adding characters to the set.\n",
    "\n",
    "3) If a character is already in the set:\n",
    "    - Shrink the window by moving the left pointer forward until the duplicate character is removed.\n",
    "\n",
    "4) Keep track of the maximum window size during the process\n",
    "\n",
    "```"
   ]
  },
  {
   "cell_type": "markdown",
   "metadata": {},
   "source": [
    "```python\n",
    "2) Maximum sum of subarray of size k\n",
    "```"
   ]
  },
  {
   "cell_type": "markdown",
   "metadata": {},
   "source": [
    "```python\n",
    "Approach:\n",
    "\n",
    "1) start with the first K elements and calculate their sum.\n",
    "\n",
    "2) Slide the window one element to thee right:\n",
    "    - Subtract the first element of the previous window.\n",
    "    - Add the next element of the current window.\n",
    "3) Track the maximum sum during this process.\n",
    "\n",
    "```"
   ]
  },
  {
   "cell_type": "markdown",
   "metadata": {},
   "source": [
    "1. Constant window"
   ]
  },
  {
   "cell_type": "code",
   "execution_count": 23,
   "metadata": {},
   "outputs": [
    {
     "name": "stdout",
     "output_type": "stream",
     "text": [
      "7\n"
     ]
    }
   ],
   "source": [
    "def maximum_sum(arr, k):\n",
    "    n = len(arr)\n",
    "\n",
    "    if n < k:\n",
    "        return None\n",
    "    l = 0\n",
    "    r = k-1\n",
    "    \n",
    "    current_sum = sum(arr[l:r+1])\n",
    "    max_number = current_sum\n",
    "    while(r < n):\n",
    "        current_sum = current_sum - arr[l]\n",
    "        l += 1\n",
    "        r += 1\n",
    "\n",
    "        current_sum = current_sum + arr[r]\n",
    "\n",
    "        max_number = max(max_number, current_sum)\n",
    "\n",
    "        return max_number   \n",
    "\n",
    "\n",
    "print(maximum_sum([-1,2,3,1,1,1,-1], 4))\n",
    "    \n",
    "    "
   ]
  },
  {
   "cell_type": "markdown",
   "metadata": {},
   "source": [
    "2. Longest subarray with sum <= k "
   ]
  },
  {
   "cell_type": "markdown",
   "metadata": {},
   "source": [
    "a. Brute force approach , where k = 14"
   ]
  },
  {
   "cell_type": "code",
   "execution_count": 40,
   "metadata": {},
   "outputs": [
    {
     "name": "stdout",
     "output_type": "stream",
     "text": [
      "3\n"
     ]
    }
   ],
   "source": [
    "def sub_arrays(arr, k):\n",
    "    n = len(arr)\n",
    "    \n",
    "    max_length = 0\n",
    "    for i in range(n):\n",
    "        sum = 0\n",
    "        for j in range(i,n):\n",
    "            sum = sum + arr[j]\n",
    "            if sum <= k:\n",
    "                max_length = max(max_length, j-i+1)\n",
    "            else:\n",
    "                break\n",
    "    \n",
    "    return max_length \n",
    "           \n",
    "        \n",
    "        \n",
    "        \n",
    "        \n",
    "        \n",
    "\n",
    "print(sub_arrays([2,5,1,7,10], 14))"
   ]
  },
  {
   "cell_type": "markdown",
   "metadata": {},
   "source": [
    "b. Better appraoch: k = 14"
   ]
  },
  {
   "cell_type": "code",
   "execution_count": 42,
   "metadata": {},
   "outputs": [
    {
     "name": "stdout",
     "output_type": "stream",
     "text": [
      "3\n"
     ]
    }
   ],
   "source": [
    "def max_length_of_array(arr, k):\n",
    "    l = 0\n",
    "    r = 0\n",
    "    n = len(arr)\n",
    "    max_length = 0\n",
    "    current_sum = 0\n",
    "    while(r<n):\n",
    "\n",
    "        current_sum = current_sum + arr[r]\n",
    "        while current_sum > k and l<=r:\n",
    "            current_sum -= arr[l]\n",
    "            l+=1\n",
    "        max_length = max(max_length, r-l+1)\n",
    "\n",
    "        r+=1\n",
    "    return max_length\n",
    "\n",
    "print(max_length_of_array([2,5,1,10,10],k=14))            "
   ]
  },
  {
   "cell_type": "markdown",
   "metadata": {},
   "source": [
    "c. Optimal approach "
   ]
  },
  {
   "cell_type": "code",
   "execution_count": 43,
   "metadata": {},
   "outputs": [
    {
     "name": "stdout",
     "output_type": "stream",
     "text": [
      "3\n"
     ]
    }
   ],
   "source": [
    "def max_length_of_array(arr, k):\n",
    "    n = len(arr)\n",
    "    l = 0\n",
    "    r = 0\n",
    "    max_length = 0\n",
    "    current_sum = 0\n",
    "\n",
    "    while r < n:\n",
    "        current_sum = current_sum + arr[r]\n",
    "\n",
    "        while current_sum > k and (r-l+1) > max_length:\n",
    "            current_sum -= arr[l]\n",
    "            l+=1\n",
    "\n",
    "        if current_sum <= k:\n",
    "            max_length = max(max_length, r-l+1)\n",
    "\n",
    "        r+=1\n",
    "\n",
    "    return max_length\n",
    "\n",
    "\n",
    "print(max_length_of_array([2, 5, 1, 10, 10], k=14))\n"
   ]
  },
  {
   "cell_type": "markdown",
   "metadata": {},
   "source": [
    "3. Maximum points you can obtain from cards."
   ]
  },
  {
   "cell_type": "code",
   "execution_count": 48,
   "metadata": {},
   "outputs": [
    {
     "name": "stdout",
     "output_type": "stream",
     "text": [
      "16\n"
     ]
    }
   ],
   "source": [
    "def max_points_from_cards(arr, k):\n",
    "    lsum = 0\n",
    "    rsum = 0\n",
    "    maxsum = 0\n",
    "\n",
    "    for i in range(k):\n",
    "        lsum = lsum + arr[i]\n",
    "\n",
    "        maxsum = lsum\n",
    "    \n",
    "    n = len(arr)\n",
    "\n",
    "    rindex = n-1\n",
    "    \n",
    "   \n",
    "    for i in range(k-1, -1, -1):\n",
    "        lsum = lsum - arr[i]\n",
    "        rsum = rsum + arr[rindex]\n",
    "        rindex = rindex - 1\n",
    "\n",
    "        maxsum = max(maxsum, lsum+rsum)\n",
    "\n",
    "    return maxsum\n",
    "\n",
    "print(max_points_from_cards([6,2,3,4,7,2,1,7,1], 4))\n"
   ]
  },
  {
   "cell_type": "markdown",
   "metadata": {},
   "source": [
    "4. Longest substring"
   ]
  },
  {
   "cell_type": "code",
   "execution_count": 53,
   "metadata": {},
   "outputs": [
    {
     "name": "stdout",
     "output_type": "stream",
     "text": [
      "cadbz\n"
     ]
    }
   ],
   "source": [
    "def longest_substring(s):\n",
    "    n = len(s)\n",
    "    char_set = set()\n",
    "    l = 0\n",
    "    max_length = 0\n",
    "    longest_substring = \"\"\n",
    "\n",
    "    for r in range(n):\n",
    "        while s[r] in char_set:\n",
    "            char_set.remove(s[l])\n",
    "            l+=1\n",
    "        char_set.add(s[r])\n",
    "        if r-l+1 > max_length:\n",
    "            max_length = r - l + 1\n",
    "            longest_substring = s[l:r+1]\n",
    "    \n",
    "    return longest_substring\n",
    "            \n",
    "   \n",
    "\n",
    "\n",
    "print(longest_substring(\"cadbzabcd\"))\n",
    "\n"
   ]
  },
  {
   "cell_type": "markdown",
   "metadata": {},
   "source": [
    "5. Max consecutive ones , k = 2 - can flip most of k zeros"
   ]
  },
  {
   "cell_type": "markdown",
   "metadata": {},
   "source": [
    "a) Brute force approach"
   ]
  },
  {
   "cell_type": "code",
   "execution_count": 67,
   "metadata": {},
   "outputs": [
    {
     "name": "stdout",
     "output_type": "stream",
     "text": [
      "6\n"
     ]
    }
   ],
   "source": [
    "def max_consecutive_ones(arr, k):\n",
    "    n = len(arr)\n",
    "    max_length = 0\n",
    "    for i in range(n):\n",
    "        zeros = 0\n",
    "        for j in range(i, n):\n",
    "            if arr[j] == 0:\n",
    "                zeros += 1\n",
    "            if zeros <= k:\n",
    "                length = j - i + 1\n",
    "                max_length = max(max_length, length)\n",
    "            else:\n",
    "                break\n",
    "\n",
    "\n",
    "    return max_length\n",
    "\n",
    "print(max_consecutive_ones([1,1,1,0,0,0,1,1,1,1,0],2))\n"
   ]
  },
  {
   "cell_type": "markdown",
   "metadata": {},
   "source": [
    "b) optimal solution"
   ]
  },
  {
   "cell_type": "code",
   "execution_count": 65,
   "metadata": {},
   "outputs": [
    {
     "name": "stdout",
     "output_type": "stream",
     "text": [
      "6\n"
     ]
    }
   ],
   "source": [
    "def max_consecutive_ones(arr, k):\n",
    "    zeros = 0\n",
    "    l = 0\n",
    "    max_length = 0\n",
    "    n = len(arr)\n",
    "\n",
    "    for r in range(n):\n",
    "        if arr[r] == 0:\n",
    "            zeros += 1\n",
    "\n",
    "        while zeros > k:\n",
    "            if arr[l] == 0:\n",
    "                zeros -= 1\n",
    "            l+=1\n",
    "        \n",
    "        max_length = max(max_length, r-l+1)\n",
    "\n",
    "    return max_length\n",
    "print(max_consecutive_ones([1,1,1,0,0,0,1,1,1,1,0],2))"
   ]
  }
 ],
 "metadata": {
  "kernelspec": {
   "display_name": "base",
   "language": "python",
   "name": "python3"
  },
  "language_info": {
   "codemirror_mode": {
    "name": "ipython",
    "version": 3
   },
   "file_extension": ".py",
   "mimetype": "text/x-python",
   "name": "python",
   "nbconvert_exporter": "python",
   "pygments_lexer": "ipython3",
   "version": "3.12.7"
  }
 },
 "nbformat": 4,
 "nbformat_minor": 2
}
