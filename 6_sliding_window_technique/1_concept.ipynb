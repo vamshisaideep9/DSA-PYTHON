{
 "cells": [
  {
   "cell_type": "markdown",
   "metadata": {},
   "source": [
    "```python\n",
    "Sliding Window Technique:\n",
    "\n",
    "The sliding window technique is a powerful algorithmic strategy used for solving problems that involves arrays or strings. It is particularly useful for finding subarrays or\n",
    "substrings that satisfy certain conditions, like having a specific sum, length, or set of properties.\n",
    "\n",
    "\n",
    "What is the sliding window Technique?\n",
    "\n",
    "A Technique where a \"window\" of elements is moved across the data structure to find a solution. The windows size can be either fixed or dynamic, depending on the problem.\n",
    "\n",
    "When to use the sliding window technique?\n",
    "\n",
    "1. When you need to analyze subarrays or substrings of contiguous elements.\n",
    "\n",
    "2. When you want to reduce time complexity from O(n^2) to O(n)\n",
    "\n",
    "Types of sliding window\n",
    "\n",
    "1. Fixed-sized window\n",
    "- the window size is constant\n",
    "\n",
    "2. Dynamic-sized window\n",
    "- The window size changes based on conditions.\n",
    "\n",
    "```"
   ]
  },
  {
   "cell_type": "markdown",
   "metadata": {},
   "source": [
    "```python\n",
    "Problems:\n",
    "\n",
    "1) Find the length of the longest substring without repeating characters (Dynamic window)\n",
    "\n",
    "```"
   ]
  },
  {
   "cell_type": "markdown",
   "metadata": {},
   "source": [
    "```Approach\n",
    "1) Start both pointers (left and right) at the beginning of the string.\n",
    "\n",
    "2) Expand the window by moving the right pointer and adding characters to the set.\n",
    "\n",
    "3) If a character is already in the set:\n",
    "    - Shrink the window by moving the left pointer forward until the duplicate character is removed.\n",
    "\n",
    "4) Keep track of the maximum window size during the process\n",
    "\n",
    "```"
   ]
  },
  {
   "cell_type": "code",
   "execution_count": 1,
   "metadata": {},
   "outputs": [
    {
     "name": "stdout",
     "output_type": "stream",
     "text": [
      "4\n"
     ]
    }
   ],
   "source": [
    "def longest_unique_substring(s):\n",
    "    sett = set() #To store unique characters in the window\n",
    "    left = 0\n",
    "    max_length = 0\n",
    "\n",
    "    for right in range(len(s)): #right pointer expands the substring\n",
    "        #If the character at right is already in the set, shrink the window\n",
    "        while s[right] in sett:\n",
    "            sett.remove(s[left])\n",
    "            left += 1\n",
    "\n",
    "        #Add a new character to the set and update max length\n",
    "        sett.add(s[right])\n",
    "        max_length = max(max_length, right - left + 1)\n",
    "    \n",
    "    return max_length\n",
    "\n",
    "print(longest_unique_substring('acdabcdab'))\n"
   ]
  },
  {
   "cell_type": "markdown",
   "metadata": {},
   "source": [
    "```python\n",
    "2) Maximum sum of subarray of size k\n",
    "```"
   ]
  },
  {
   "cell_type": "markdown",
   "metadata": {},
   "source": [
    "```python\n",
    "Approach:\n",
    "\n",
    "1) start with the first K elements and calculate their sum.\n",
    "\n",
    "2) Slide the window one element to thee right:\n",
    "    - Subtract the first element of the previous window.\n",
    "    - Add the next element of the current window.\n",
    "3) Track the maximum sum during this process.\n",
    "\n",
    "```"
   ]
  },
  {
   "cell_type": "code",
   "execution_count": 2,
   "metadata": {},
   "outputs": [],
   "source": [
    "def max_sum_subarray(arr, k):\n",
    "    window_sum = 0\n",
    "    max_sum = []\n",
    "\n",
    "    if len(arr) < k:\n",
    "        return -1\n",
    "    \n",
    "    window_sum = sum(arr[:k])\n",
    "    max_sum = window_sum\n",
    "\n",
    "    for i in range(k, len(arr)):\n",
    "        window_sum += arr[i] - arr[i-k]\n",
    "        max_sum = max(max_sum, window_sum)\n",
    "    \n",
    "    return max_sum\n",
    "\n",
    "print(max_sum_subarray([2, 1, 5, 1, 3, 2], 3))  # Output: 9\n",
    "print(max_sum_subarray([1, 2, 3, 4, 5, 6, 7, 8, 9, 10], 4))  # Output: 34\n",
    "print(max_sum_subarray([5, 1, 2, 3, 4], 2))  # Output: 7\n",
    "\n",
    "\n",
    "        \n"
   ]
  }
 ],
 "metadata": {
  "kernelspec": {
   "display_name": "base",
   "language": "python",
   "name": "python3"
  },
  "language_info": {
   "codemirror_mode": {
    "name": "ipython",
    "version": 3
   },
   "file_extension": ".py",
   "mimetype": "text/x-python",
   "name": "python",
   "nbconvert_exporter": "python",
   "pygments_lexer": "ipython3",
   "version": "3.12.7"
  }
 },
 "nbformat": 4,
 "nbformat_minor": 2
}
