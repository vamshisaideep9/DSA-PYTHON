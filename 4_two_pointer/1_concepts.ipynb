{
 "cells": [
  {
   "cell_type": "markdown",
   "metadata": {},
   "source": [
    "```python\n",
    "Two pointer Technique:\n",
    "--> The two pointers technique is a powerful algorithmic strategy commonly used for solving array and string problems efficiently.\n",
    "\n",
    "\n",
    "Def: Two pointers are two variables that traverse an array or string simultaneously, often from different directions.\n",
    "\n",
    "Used for: \n",
    "\n",
    "1) sorting problems\n",
    "2) searching problems\n",
    "3) Reversal problems\n",
    "4) sliding window problems\n",
    "```\n",
    "\n",
    "\n"
   ]
  }
 ],
 "metadata": {
  "language_info": {
   "name": "python"
  }
 },
 "nbformat": 4,
 "nbformat_minor": 2
}
